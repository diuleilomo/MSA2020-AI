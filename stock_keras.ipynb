{
 "cells": [
  {
   "cell_type": "code",
   "execution_count": 1,
   "metadata": {},
   "outputs": [],
   "source": [
    "import numpy as np\n",
    "import pandas as pd\n",
    "import matplotlib.pyplot as plt\n",
    "from keras.models import Sequential\n",
    "from keras.layers import Dense\n",
    "from keras.layers import LSTM\n",
    "import yfinance as yf"
   ]
  },
  {
   "cell_type": "code",
   "execution_count": 16,
   "metadata": {},
   "outputs": [],
   "source": [
    "# pull the data from yfinance\n",
    "def yfinance_data(asset, start, end, progress, auto_adjust):\n",
    "    #call API routines specific to an asset\n",
    "    equity = yf.download(asset, start, end, progress, auto_adjust)\n",
    "    return equity"
   ]
  },
  {
   "cell_type": "code",
   "execution_count": 17,
   "metadata": {
    "tags": []
   },
   "outputs": [
    {
     "output_type": "stream",
     "name": "stdout",
     "text": "[*********************100%***********************]  1 of 1 completed\n"
    }
   ],
   "source": [
    "assets = ['TLS.AX']\n",
    "start_date = '2019-01-01'\n",
    "end_date = '2019-12-31' \n",
    "df = pd.DataFrame(yfinance_data(assets, start_date, end_date, False, False))"
   ]
  }
 ],
 "metadata": {
  "kernelspec": {
   "display_name": "Python 3.7.6 64-bit ('base':conda)",
   "language": "python",
   "name": "python37364bit291baf9030f8497ebdf1b6d30cd67828"
  },
  "language_info": {
   "codemirror_mode": {
    "name": "ipython",
    "version": 3
   },
   "file_extension": ".py",
   "mimetype": "text/x-python",
   "name": "python",
   "nbconvert_exporter": "python",
   "pygments_lexer": "ipython3",
   "version": "3.7.6-final"
  }
 },
 "nbformat": 4,
 "nbformat_minor": 4
}